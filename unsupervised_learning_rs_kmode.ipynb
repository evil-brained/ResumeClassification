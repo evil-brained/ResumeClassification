{
 "cells": [
  {
   "cell_type": "code",
   "execution_count": 1,
   "id": "6d60d8ad",
   "metadata": {},
   "outputs": [
    {
     "name": "stdout",
     "output_type": "stream",
     "text": [
      "Requirement already satisfied: kmodes in c:\\users\\jawahar\\anaconda3\\lib\\site-packages (0.12.2)\n",
      "Requirement already satisfied: scipy>=0.13.3 in c:\\users\\jawahar\\anaconda3\\lib\\site-packages (from kmodes) (1.7.3)\n",
      "Requirement already satisfied: scikit-learn>=0.22.0 in c:\\users\\jawahar\\anaconda3\\lib\\site-packages (from kmodes) (1.1.3)\n",
      "Requirement already satisfied: numpy>=1.10.4 in c:\\users\\jawahar\\anaconda3\\lib\\site-packages (from kmodes) (1.21.5)\n",
      "Requirement already satisfied: joblib>=0.11 in c:\\users\\jawahar\\anaconda3\\lib\\site-packages (from kmodes) (1.1.0)\n",
      "Requirement already satisfied: threadpoolctl>=2.0.0 in c:\\users\\jawahar\\anaconda3\\lib\\site-packages (from scikit-learn>=0.22.0->kmodes) (2.2.0)\n"
     ]
    }
   ],
   "source": [
    "# importing necessary libraries\n",
    "import pandas as pd\n",
    "import numpy as np\n",
    "!pip install kmodes\n",
    "from kmodes.kmodes import KModes\n",
    "import matplotlib.pyplot as plt\n",
    "%matplotlib inline\n",
    "from imblearn.over_sampling import RandomOverSampler"
   ]
  },
  {
   "cell_type": "code",
   "execution_count": 39,
   "id": "e7b59cd1",
   "metadata": {
    "scrolled": false
   },
   "outputs": [
    {
     "name": "stdout",
     "output_type": "stream",
     "text": [
      "0                 core\n",
      "1      cloud computing\n",
      "2      cloud computing\n",
      "3         data science\n",
      "4                 core\n",
      "            ...       \n",
      "395     cyber security\n",
      "396    cloud computing\n",
      "397               core\n",
      "398               core\n",
      "399       data science\n",
      "Name: Streams, Length: 400, dtype: object\n",
      "     Streams\n",
      "0          1\n",
      "1          0\n",
      "2          0\n",
      "3          3\n",
      "4          1\n",
      "..       ...\n",
      "395        2\n",
      "396        0\n",
      "397        1\n",
      "398        1\n",
      "399        3\n",
      "\n",
      "[400 rows x 1 columns]\n"
     ]
    }
   ],
   "source": [
    "from sklearn.preprocessing import LabelEncoder\n",
    "le = preprocessing.LabelEncoder()\n",
    "labelencoder = LabelEncoder()\n",
    "df=pd.read_csv('encoded_dataset.csv')\n",
    "print(df[\"Streams\"])\n",
    "df['Streams']=labelencoder.fit_transform(df['Streams'])\n",
    "X=df.iloc[:,3:]\n",
    "Y=df.iloc[:,2:3]\n",
    "print(Y)\n",
    "\n",
    "#core-1\n",
    "#cloud-0\n",
    "#data-3\n",
    "#cyber-2"
   ]
  },
  {
   "cell_type": "code",
   "execution_count": 25,
   "id": "8e321013",
   "metadata": {},
   "outputs": [
    {
     "data": {
      "text/plain": [
       "array([[ 1.17312693, -1.02206993,  0.45192752, ..., -0.60153173,\n",
       "        -0.00557369,  0.36635031],\n",
       "       [-1.0763792 , -0.36517997,  1.08163359, ..., -0.04564461,\n",
       "        -0.09000392,  0.23525977],\n",
       "       [ 0.75442698,  1.6998867 , -1.69977524, ..., -0.54996714,\n",
       "        -0.0317143 ,  0.77020606],\n",
       "       ...,\n",
       "       [ 0.33083244, -0.35336468,  0.02080421, ...,  0.34134595,\n",
       "         0.06129949, -0.2801809 ],\n",
       "       [ 0.24887545, -0.01006442, -1.1161445 , ..., -0.03308213,\n",
       "        -0.18929156, -0.33410002],\n",
       "       [ 1.69746678,  1.62853483,  0.55888679, ...,  1.2898387 ,\n",
       "         0.86537973, -0.41218962]])"
      ]
     },
     "execution_count": 25,
     "metadata": {},
     "output_type": "execute_result"
    }
   ],
   "source": [
    "from sklearn.decomposition import PCA\n",
    "pca=PCA(n_components=32)\n",
    "X = pca.fit_transform(X)\n",
    "X\n"
   ]
  },
  {
   "cell_type": "code",
   "execution_count": 26,
   "id": "5b36e91c",
   "metadata": {},
   "outputs": [
    {
     "data": {
      "image/png": "[encoded data removed]",
      "text/plain": [
       "<Figure size 432x288 with 1 Axes>"
      ]
     },
     "metadata": {
      "needs_background": "light"
     },
     "output_type": "display_data"
    }
   ],
   "source": [
    "# Elbow curve to find optimal K\n",
    "cost = []\n",
    "K = range(1,5)\n",
    "for num_clusters in list(K):\n",
    "    kmode = KModes(n_clusters=num_clusters, init = \"random\", n_init = 5)\n",
    "    kmode.fit_predict(X)\n",
    "    cost.append(kmode.cost_)\n",
    "    \n",
    "plt.plot(K, cost, 'bx-')\n",
    "plt.xlabel('No. of clusters')\n",
    "plt.ylabel('Cost')\n",
    "plt.title('Elbow Method For Optimal k')\n",
    "plt.show()"
   ]
  },
  {
   "cell_type": "code",
   "execution_count": 27,
   "id": "ade7f91b",
   "metadata": {},
   "outputs": [
    {
     "data": {
      "text/plain": [
       "array([0, 0, 0, 0, 0, 0, 0, 0, 0, 0, 0, 0, 0, 0, 0, 0, 0, 0, 0, 0, 0, 0,\n",
       "       0, 0, 0, 0, 0, 0, 0, 0, 0, 0, 0, 0, 0, 0, 0, 0, 0, 0, 0, 0, 0, 0,\n",
       "       0, 0, 0, 0, 0, 0, 0, 0, 0, 0, 1, 0, 0, 0, 0, 0, 0, 0, 0, 0, 0, 0,\n",
       "       0, 0, 0, 0, 0, 0, 0, 0, 0, 0, 0, 0, 0, 0, 0, 0, 0, 0, 0, 0, 0, 0,\n",
       "       0, 0, 0, 0, 0, 0, 0, 0, 0, 0, 0, 0, 0, 0, 0, 0, 0, 0, 0, 0, 0, 0,\n",
       "       0, 0, 0, 0, 0, 0, 0, 0, 0, 0, 0, 0, 0, 0, 0, 0, 0, 0, 0, 0, 0, 0,\n",
       "       0, 0, 0, 0, 0, 0, 0, 0, 0, 0, 0, 0, 0, 0, 0, 0, 0, 0, 0, 0, 0, 0,\n",
       "       0, 0, 0, 0, 0, 0, 0, 0, 0, 0, 0, 0, 0, 0, 0, 0, 0, 0, 0, 0, 2, 0,\n",
       "       0, 0, 0, 0, 0, 0, 0, 0, 0, 0, 0, 0, 0, 0, 0, 0, 0, 0, 0, 0, 0, 0,\n",
       "       0, 0, 0, 0, 0, 0, 0, 0, 0, 0, 0, 0, 0, 0, 0, 0, 0, 0, 0, 0, 0, 0,\n",
       "       0, 0, 0, 0, 0, 0, 0, 0, 0, 0, 0, 0, 0, 0, 0, 0, 0, 0, 0, 0, 0, 0,\n",
       "       0, 0, 0, 0, 0, 0, 0, 0, 0, 0, 0, 0, 0, 0, 0, 0, 0, 0, 0, 0, 0, 0,\n",
       "       0, 0, 0, 0, 0, 0, 0, 0, 0, 0, 0, 0, 0, 0, 0, 0, 0, 0, 0, 0, 0, 0,\n",
       "       0, 0, 0, 0, 0, 0, 0, 0, 0, 0, 0, 0, 0, 0, 0, 0, 0, 0, 0, 0, 0, 0,\n",
       "       0, 0, 0, 0, 0, 0, 0, 0, 0, 0, 0, 0, 0, 0, 0, 0, 0, 0, 0, 0, 0, 0,\n",
       "       0, 0, 0, 0, 0, 0, 0, 0, 0, 0, 0, 0, 0, 0, 0, 0, 0, 0, 0, 0, 0, 0,\n",
       "       0, 0, 0, 0, 0, 0, 0, 0, 0, 0, 0, 0, 0, 0, 0, 0, 0, 0, 0, 0, 0, 0,\n",
       "       0, 0, 0, 0, 0, 3, 0, 0, 0, 0, 0, 0, 0, 0, 0, 0, 0, 0, 0, 0, 0, 0,\n",
       "       0, 0, 0, 0], dtype=uint16)"
      ]
     },
     "execution_count": 27,
     "metadata": {},
     "output_type": "execute_result"
    }
   ],
   "source": [
    "# Building the model with 4 clusters\n",
    "kmode = KModes(n_clusters=4,init = \"random\", n_init = 5)\n",
    "clusters = kmode.fit_predict(X)\n",
    "clusters"
   ]
  },
  {
   "cell_type": "code",
   "execution_count": 28,
   "id": "920d9076",
   "metadata": {},
   "outputs": [
    {
     "name": "stdout",
     "output_type": "stream",
     "text": [
      "[0, 1, 2, 3, 4, 5, 6, 7, 8, 9, 10, 11, 12, 13, 14, 15, 16, 17, 18, 19, 20, 21, 22, 23, 24, 25, 26, 27, 28, 29, 30, 31, 32, 33, 34, 35, 36, 37, 38, 39, 40, 41, 42, 43, 44, 45, 46, 47, 48, 49, 50, 51, 52, 53, 55, 56, 57, 58, 59, 60, 61, 62, 63, 64, 65, 66, 67, 68, 69, 70, 71, 72, 73, 74, 75, 76, 77, 78, 79, 80, 81, 82, 83, 84, 85, 86, 87, 88, 89, 90, 91, 92, 93, 94, 95, 96, 97, 98, 99, 100, 101, 102, 103, 104, 105, 106, 107, 108, 109, 110, 111, 112, 113, 114, 115, 116, 117, 118, 119, 120, 121, 122, 123, 124, 125, 126, 127, 128, 129, 130, 131, 132, 133, 134, 135, 136, 137, 138, 139, 140, 141, 142, 143, 144, 145, 146, 147, 148, 149, 150, 151, 152, 153, 154, 155, 156, 157, 158, 159, 160, 161, 162, 163, 164, 165, 166, 167, 168, 169, 170, 171, 172, 173, 175, 176, 177, 178, 179, 180, 181, 182, 183, 184, 185, 186, 187, 188, 189, 190, 191, 192, 193, 194, 195, 196, 197, 198, 199, 200, 201, 202, 203, 204, 205, 206, 207, 208, 209, 210, 211, 212, 213, 214, 215, 216, 217, 218, 219, 220, 221, 222, 223, 224, 225, 226, 227, 228, 229, 230, 231, 232, 233, 234, 235, 236, 237, 238, 239, 240, 241, 242, 243, 244, 245, 246, 247, 248, 249, 250, 251, 252, 253, 254, 255, 256, 257, 258, 259, 260, 261, 262, 263, 264, 265, 266, 267, 268, 269, 270, 271, 272, 273, 274, 275, 276, 277, 278, 279, 280, 281, 282, 283, 284, 285, 286, 287, 288, 289, 290, 291, 292, 293, 294, 295, 296, 297, 298, 299, 300, 301, 302, 303, 304, 305, 306, 307, 308, 309, 310, 311, 312, 313, 314, 315, 316, 317, 318, 319, 320, 321, 322, 323, 324, 325, 326, 327, 328, 329, 330, 331, 332, 333, 334, 335, 336, 337, 338, 339, 340, 341, 342, 343, 344, 345, 346, 347, 348, 349, 350, 351, 352, 353, 354, 355, 356, 357, 358, 359, 360, 361, 362, 363, 364, 365, 366, 367, 368, 369, 370, 371, 372, 373, 374, 375, 376, 377, 378, 380, 381, 382, 383, 384, 385, 386, 387, 388, 389, 390, 391, 392, 393, 394, 395, 396, 397, 398, 399]\n",
      "[54]\n",
      "[174]\n",
      "[379]\n",
      "397\n",
      "1\n",
      "1\n",
      "1\n"
     ]
    }
   ],
   "source": [
    "count_0=[]\n",
    "count_1=[]\n",
    "count_2=[]\n",
    "count_3=[]\n",
    "for i in range(0,len(clusters)):\n",
    "    if(clusters[i]==0):\n",
    "        count_0.append(i)\n",
    "    elif(clusters[i]==1):  \n",
    "        count_1.append(i)\n",
    "    elif(clusters[i]==2):\n",
    "        count_2.append(i)\n",
    "    elif(clusters[i]==3):\n",
    "        count_3.append(i)\n",
    "print(count_0)\n",
    "print(count_1)\n",
    "print(count_2)\n",
    "print(count_3)\n",
    "\n",
    "print(len(count_0))\n",
    "print(len(count_1))\n",
    "print(len(count_2))\n",
    "print(len(count_3))\n"
   ]
  },
  {
   "cell_type": "code",
   "execution_count": 56,
   "id": "60a6a8c0",
   "metadata": {},
   "outputs": [
    {
     "name": "stdout",
     "output_type": "stream",
     "text": [
      "349   51\n",
      "12.75\n"
     ]
    }
   ],
   "source": [
    "neg=0\n",
    "pos=0\n",
    "for i in count_0:\n",
    "    if(Y.iloc[i,0]!=0):\n",
    "        neg+=1\n",
    "    else:\n",
    "        pos+=1\n",
    "for i in count_1:\n",
    "    if(Y.iloc[i,0]!=1):\n",
    "        neg+=1\n",
    "    else:\n",
    "        pos+=1\n",
    "for i in count_2:\n",
    "    if(Y.iloc[i,0]!=2):\n",
    "        neg+=1\n",
    "    else:\n",
    "        pos+=1\n",
    "for i in count_3:\n",
    "    if(Y.iloc[i,0]!=3):\n",
    "        neg+=1\n",
    "    else:\n",
    "        pos+=1\n",
    "print(neg,\" \",pos)\n",
    "print(pos/(pos+neg)*100)\n",
    "# print(((65+35+54+25)/400)*100)\n",
    "# print(((76+22+71+52)/400)*100)\n"
   ]
  },
  {
   "cell_type": "code",
   "execution_count": 42,
   "id": "0059ba9b",
   "metadata": {},
   "outputs": [
    {
     "name": "stdout",
     "output_type": "stream",
     "text": [
      "              precision    recall  f1-score   support\n",
      "\n",
      "           0       0.00      0.00      0.00        53\n",
      "           1       0.39      0.62      0.48       127\n",
      "           2       0.00      0.00      0.00        58\n",
      "           3       0.51      0.62      0.56       162\n",
      "\n",
      "    accuracy                           0.45       400\n",
      "   macro avg       0.22      0.31      0.26       400\n",
      "weighted avg       0.33      0.45      0.38       400\n",
      "\n"
     ]
    },
    {
     "name": "stderr",
     "output_type": "stream",
     "text": [
      "C:\\Users\\Jawahar\\anaconda3\\lib\\site-packages\\sklearn\\metrics\\_classification.py:1318: UndefinedMetricWarning: Precision and F-score are ill-defined and being set to 0.0 in labels with no predicted samples. Use `zero_division` parameter to control this behavior.\n",
      "  _warn_prf(average, modifier, msg_start, len(result))\n",
      "C:\\Users\\Jawahar\\anaconda3\\lib\\site-packages\\sklearn\\metrics\\_classification.py:1318: UndefinedMetricWarning: Precision and F-score are ill-defined and being set to 0.0 in labels with no predicted samples. Use `zero_division` parameter to control this behavior.\n",
      "  _warn_prf(average, modifier, msg_start, len(result))\n",
      "C:\\Users\\Jawahar\\anaconda3\\lib\\site-packages\\sklearn\\metrics\\_classification.py:1318: UndefinedMetricWarning: Precision and F-score are ill-defined and being set to 0.0 in labels with no predicted samples. Use `zero_division` parameter to control this behavior.\n",
      "  _warn_prf(average, modifier, msg_start, len(result))\n"
     ]
    },
    {
     "data": {
      "image/png": "[encoded data removed]",
      "text/plain": [
       "<Figure size 720x720 with 2 Axes>"
      ]
     },
     "metadata": {
      "needs_background": "light"
     },
     "output_type": "display_data"
    }
   ],
   "source": [
    "from sklearn.metrics import confusion_matrix\n",
    "from sklearn.metrics import precision_score, recall_score, f1_score, accuracy_score\n",
    "import matplotlib.pyplot as plt\n",
    "from sklearn.metrics import ConfusionMatrixDisplay\n",
    "label=[\"cloud computing\",\"computer science\",\"cyber security\",\"data science\"]\n",
    "disp = ConfusionMatrixDisplay.from_predictions(Y,y_pred,labels=[0,1,2,3],cmap=plt.cm.Blues,display_labels=[\"cloud computing\",\"computer science\",\"cyber security\",\"data science\"], values_format='',  ) \n",
    "fig = disp.ax_.get_figure() \n",
    "fig.set_figwidth(10)\n",
    "fig.set_figheight(10)  \n",
    "                                        \n",
    "                                        \n",
    "from sklearn import metrics\n",
    "print(metrics.classification_report(Y, y_pred))"
   ]
  },
  {
   "cell_type": "code",
   "execution_count": 57,
   "id": "4aca262c",
   "metadata": {},
   "outputs": [
    {
     "name": "stdout",
     "output_type": "stream",
     "text": [
      "218 243 185 317\n",
      "4\n",
      "1091\n",
      "[array([0, 0, 0, ..., 0, 0, 0], dtype=int64), array([0, 0, 0, ..., 0, 0, 0], dtype=int64), array([0, 0, 0, ..., 0, 0, 0], dtype=int64), array([0, 0, 0, ..., 0, 0, 0], dtype=int64)]\n"
     ]
    }
   ],
   "source": [
    "#enhanced kmode-cluster code\n",
    "arr=X.to_numpy()\n",
    "n=len(arr)     #rows\n",
    "d=len(arr[0])  #columns\n",
    "k=1          #features\n",
    "\n",
    "#random selection of initial clusters\n",
    "import random\n",
    "r=random.randint(0,399)\n",
    "# print(r)\n",
    "ran=arr[r]\n",
    "ind_1=-1\n",
    "ind_2=-1\n",
    "ind_3=-1\n",
    "# print(ran)\n",
    "C=[]\n",
    "n=len(arr)\n",
    "m=len(arr[0])\n",
    "dup_mode=[]\n",
    "# t=(1,)\n",
    "# print(type(t))\n",
    "def check_random(arr,x,*dup):\n",
    "        ind=-1\n",
    "        dist=0\n",
    "        for iter in range(0,len(dup)):\n",
    "            for i in range(0,n):\n",
    "                sum=0\n",
    "                for j in range(0,m):\n",
    "                     for k in range(0,len(x)):\n",
    "                        if(i!=x[k] and arr[i][j]==dup[iter][j]):\n",
    "                            sum+=1\n",
    "                if(dist<sum):\n",
    "                    dist=sum\n",
    "                    ind=i\n",
    "        return ind\n",
    "ind_1=check_random(arr,(r,),ran)\n",
    "ind_2=check_random(arr,(r,ind_1),ran,arr[ind_1])\n",
    "ind_3=check_random(arr,(r,ind_1,ind_2),ran,arr[ind_1],arr[ind_2])\n",
    "print(r,ind_1,ind_2,ind_3)\n",
    "C.append(arr[r])\n",
    "C.append(arr[ind_1])\n",
    "C.append(arr[ind_2])\n",
    "C.append(arr[ind_3])\n",
    "print(len(C))\n",
    "print(len(C[0]))\n",
    "print(C)\n",
    "\n",
    "# print(len(ran_one)==len(ran))\n",
    "# ran_two=[]\n",
    "# for i in range(0,n):\n",
    "#     sum=0\n",
    "#     for j in range(0,m):\n",
    "#          if(i!=r and i!=ind_1):\n",
    "#             if(arr[i][j]==arr[ind_1][j]):\n",
    "#                   sum+=1\n",
    "#     if(dist>sum):\n",
    "#         dist=sum\n",
    "#         ind_2=i\n",
    "# print(ind_2)\n",
    "# dup=np.array([])\n",
    "# while 1:\n",
    "#     ranIndex=np.random.randint(low=1,high=n,size=k)\n",
    "#     u,c=np.unique(ranIndex,return_counts=True)\n",
    "#     dup=u[c>1]\n",
    "#     if(dup.size==0):\n",
    "#         break\n",
    "# C=arr[ranIndex]\n",
    "# print(\"the initial cluster centers: \\n\",C[:,0:d])\n",
    "\n"
   ]
  },
  {
   "cell_type": "code",
   "execution_count": 65,
   "id": "009b0c09",
   "metadata": {},
   "outputs": [
    {
     "name": "stdout",
     "output_type": "stream",
     "text": [
      "[13, 19, 22, 32, 58, 61, 68, 69, 82, 93, 94, 100, 112, 115, 117, 121, 126, 133, 135, 141, 146, 158, 216, 241, 250, 253, 264, 289, 318, 346, 348, 354, 362, 363, 364, 365, 368, 370, 387] 39 \n",
      "\n",
      "[18, 81, 96, 103, 130, 165, 205, 210, 212, 243, 244, 255, 300, 317, 325, 337, 367] 17 \n",
      "\n",
      "[16, 30, 31, 45, 62, 185, 218, 230, 249, 290, 295, 305, 349, 355] 14 \n",
      "\n",
      "[0, 1, 2, 3, 4, 5, 6, 7, 8, 9, 10, 11, 12, 14, 15, 17, 20, 21, 23, 24, 25, 26, 27, 28, 29, 33, 34, 35, 36, 37, 38, 39, 40, 41, 42, 43, 44, 46, 47, 48, 49, 50, 51, 52, 53, 54, 55, 56, 57, 59, 60, 63, 64, 65, 66, 67, 70, 71, 72, 73, 74, 75, 76, 77, 78, 79, 80, 83, 84, 85, 86, 87, 88, 89, 90, 91, 92, 95, 97, 98, 99, 101, 102, 104, 105, 106, 107, 108, 109, 110, 111, 113, 114, 116, 118, 119, 120, 122, 123, 124, 125, 127, 128, 129, 131, 132, 134, 136, 137, 138, 139, 140, 142, 143, 144, 145, 147, 148, 149, 150, 151, 152, 153, 154, 155, 156, 157, 159, 160, 161, 162, 163, 164, 166, 167, 168, 169, 170, 171, 172, 173, 174, 175, 176, 177, 178, 179, 180, 181, 182, 183, 184, 186, 187, 188, 189, 190, 191, 192, 193, 194, 195, 196, 197, 198, 199, 200, 201, 202, 203, 204, 206, 207, 208, 209, 211, 213, 214, 215, 217, 219, 220, 221, 222, 223, 224, 225, 226, 227, 228, 229, 231, 232, 233, 234, 235, 236, 237, 238, 239, 240, 242, 245, 246, 247, 248, 251, 252, 254, 256, 257, 258, 259, 260, 261, 262, 263, 265, 266, 267, 268, 269, 270, 271, 272, 273, 274, 275, 276, 277, 278, 279, 280, 281, 282, 283, 284, 285, 286, 287, 288, 291, 292, 293, 294, 296, 297, 298, 299, 301, 302, 303, 304, 306, 307, 308, 309, 310, 311, 312, 313, 314, 315, 316, 319, 320, 321, 322, 323, 324, 326, 327, 328, 329, 330, 331, 332, 333, 334, 335, 336, 338, 339, 340, 341, 342, 343, 344, 345, 347, 350, 351, 352, 353, 356, 357, 358, 359, 360, 361, 366, 369, 371, 372, 373, 374, 375, 376, 377, 378, 379, 380, 381, 382, 383, 384, 385, 386, 388, 389, 390, 391, 392, 393, 394, 395, 396, 397, 398, 399] 330\n"
     ]
    }
   ],
   "source": [
    "for iterations in range(0,50):\n",
    "    mode_arr=C\n",
    "    #initialzing to different clusters\n",
    "    def calc_dist(x,y):\n",
    "        return x==y\n",
    "    d_zero=[]\n",
    "    d_one=[]\n",
    "    d_two=[]\n",
    "    d_three=[]\n",
    "    c_zero=[]\n",
    "    c_one=[]\n",
    "    c_two=[]\n",
    "    c_three=[]\n",
    "    for i in range(0,len(arr)):\n",
    "        ind=-1\n",
    "        dist=999999999999999999999999999999999\n",
    "        for j in range(0,len(C)):\n",
    "             sum=0\n",
    "             for k in range(0,len(C[j])):\n",
    "                if(calc_dist(arr[i][k],C[j][k])):\n",
    "                    sum+=mode_arr[j][k]\n",
    "             if(dist>(1091-sum)):\n",
    "                dist=1091-sum\n",
    "                ind=j\n",
    "        if(ind==0):\n",
    "            c_zero.append(arr[i])\n",
    "            d_zero.append(i)\n",
    "        elif(ind==1):\n",
    "            c_one.append(arr[i])\n",
    "            d_one.append(i)\n",
    "        elif(ind==2):\n",
    "            c_two.append(arr[i])\n",
    "            d_two.append(i)\n",
    "        elif(ind==3):\n",
    "            c_three.append(arr[i])\n",
    "            d_three.append(i)\n",
    "    #print(\"len\",len(c_zero),len(c_one),len(c_two),len(c_three))\n",
    "            \n",
    "    #new clusters formation\n",
    "    new_clust=[]\n",
    "    def check_max(a):\n",
    "      n=len(a)\n",
    "      dup_mode=[]\n",
    "      if(n>0):\n",
    "        m=len(a[0])\n",
    "       \n",
    "        for i in range(0,m):\n",
    "            z=0\n",
    "            o=0\n",
    "            for j in range(0,n):\n",
    "                if(a[j][i]==1):\n",
    "                   o+=1\n",
    "                elif(a[j][i]==0):\n",
    "                   z+=1\n",
    "            if(o>z):\n",
    "                 dup_mode.append(1)\n",
    "            else:\n",
    "                 dup_mode.append(0) \n",
    "      return dup_mode\n",
    "    new_clust.append(check_max(c_zero))\n",
    "    new_clust.append(check_max(c_one))\n",
    "    new_clust.append(check_max(c_two))\n",
    "    new_clust.append(check_max(c_three))\n",
    "    C=list(new_clust)\n",
    "\n",
    "                \n",
    "                \n",
    "print(d_zero,len(d_zero),\"\\n\")\n",
    "print(d_one,len(d_one),\"\\n\")\n",
    "print(d_two,len(d_two),\"\\n\")\n",
    "print(d_three,len(d_three))\n",
    "\n",
    "    \n",
    "\n",
    "            \n",
    "                \n",
    "               \n",
    "\n",
    "        \n",
    "    "
   ]
  },
  {
   "cell_type": "code",
   "execution_count": 64,
   "id": "b48f4cff",
   "metadata": {},
   "outputs": [
    {
     "name": "stdout",
     "output_type": "stream",
     "text": [
      "257   143\n",
      "35.75\n"
     ]
    }
   ],
   "source": [
    "# count_0=[]\n",
    "# count_1=[]\n",
    "# count_2=[]\n",
    "# count_3=[]\n",
    "# for i in range(0,len(new_clust)):\n",
    "#     if(new_clust[i]==0):\n",
    "#         count_0.append(i)\n",
    "#     elif(new_clust[i]==1):  \n",
    "#         count_1.append(i)\n",
    "#     elif(new_clust[i]==2):\n",
    "#         count_2.append(i)\n",
    "#     elif(new_clust[i]==3):\n",
    "#         count_3.append(i)\n",
    "# print(count_0)\n",
    "# print(count_1)\n",
    "# print(count_2)\n",
    "# print(count_3)\n",
    "\n",
    "# print(len(count_0))\n",
    "# print(len(count_1))\n",
    "# print(len(count_2))\n",
    "# print(len(count_3))\n",
    "neg=0\n",
    "pos=0\n",
    "for i in d_zero:\n",
    "    if(Y.iloc[i,0]!=0):\n",
    "        neg+=1\n",
    "    else:\n",
    "        pos+=1\n",
    "for i in d_one:\n",
    "    if(Y.iloc[i,0]!=1):\n",
    "        neg+=1\n",
    "    else:\n",
    "        pos+=1\n",
    "for i in d_two:\n",
    "    if(Y.iloc[i,0]!=2):\n",
    "        neg+=1\n",
    "    else:\n",
    "        pos+=1\n",
    "for i in d_three:\n",
    "    if(Y.iloc[i,0]!=3):\n",
    "        neg+=1\n",
    "    else:\n",
    "        pos+=1\n",
    "print(neg,\" \",pos)\n",
    "print(pos/(pos+neg)*100)"
   ]
  },
  {
   "cell_type": "code",
   "execution_count": null,
   "id": "4486b542",
   "metadata": {},
   "outputs": [],
   "source": []
  }
 ],
 "metadata": {
  "kernelspec": {
   "display_name": "Python 3 (ipykernel)",
   "language": "python",
   "name": "python3"
  },
  "language_info": {
   "codemirror_mode": {
    "name": "ipython",
    "version": 3
   },
   "file_extension": ".py",
   "mimetype": "text/x-python",
   "name": "python",
   "nbconvert_exporter": "python",
   "pygments_lexer": "ipython3",
   "version": "3.9.12"
  }
 },
 "nbformat": 4,
 "nbformat_minor": 5
}
