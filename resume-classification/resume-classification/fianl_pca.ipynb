{
 "cells": [
  {
   "cell_type": "code",
   "execution_count": 68,
   "id": "567ae6a4",
   "metadata": {},
   "outputs": [],
   "source": [
    "# importing required libraries\n",
    "import numpy as np\n",
    "import matplotlib.pyplot as plt\n",
    "import pandas as pd"
   ]
  },
  {
   "cell_type": "code",
   "execution_count": 84,
   "id": "68d28d40",
   "metadata": {},
   "outputs": [],
   "source": [
    "from sklearn.preprocessing import StandardScaler\n",
    "from sklearn.decomposition import PCA\n",
    "from sklearn.model_selection import train_test_split\n",
    "from sklearn.metrics import accuracy_score\n",
    "from sklearn.metrics import precision_recall_fscore_support\n",
    "\n",
    "oversample = RandomOverSampler()\n",
    "df= pd.read_csv('final_datasets/encoded_dataset.csv')\n",
    "X = df.iloc[:, 3:].values\n",
    "y = df.iloc[:, 2].values\n",
    "X_over, y_over = oversample.fit_resample(X, y)\n",
    "X_train, X_test, y_train, y_test = train_test_split(X_over, y_over, test_size = 0.2, random_state = 42)\n",
    "\n",
    "\n",
    "pca = PCA(n_components = 30)\n",
    "X_train = pca.fit_transform(X_train)\n",
    "X_test = pca.transform(X_test)\n",
    "\n"
   ]
  },
  {
   "cell_type": "code",
   "execution_count": 85,
   "id": "de3ce812",
   "metadata": {},
   "outputs": [
    {
     "name": "stdout",
     "output_type": "stream",
     "text": [
      "0.8153846153846154\n"
     ]
    },
    {
     "data": {
      "text/plain": [
       "(0.8334777084777085, 0.8208057029177718, 0.8173688596223807, None)"
      ]
     },
     "execution_count": 85,
     "metadata": {},
     "output_type": "execute_result"
    }
   ],
   "source": [
    "from sklearn import svm\n",
    "svm_model = svm.SVC().fit(X_train,y_train)\n",
    "y_pred = svm_model.predict(X_test)\n",
    "svm_score = accuracy_score(y_test, y_pred,normalize = True)\n",
    "print(svm_score)\n",
    "precision_recall_fscore_support(y_test, y_pred, average='macro')"
   ]
  },
  {
   "cell_type": "code",
   "execution_count": 86,
   "id": "a0eaacb1",
   "metadata": {},
   "outputs": [
    {
     "name": "stdout",
     "output_type": "stream",
     "text": [
      "0.7230769230769231\n"
     ]
    },
    {
     "data": {
      "text/plain": [
       "(0.7218141233766233, 0.7226553618794997, 0.7177633267733379, None)"
      ]
     },
     "execution_count": 86,
     "metadata": {},
     "output_type": "execute_result"
    }
   ],
   "source": [
    "from sklearn.linear_model import LogisticRegression\n",
    "lr_model = LogisticRegression(random_state=0, multi_class = \"ovr\").fit(X_train, y_train)\n",
    "y_pred = lr_model.predict(X_test)\n",
    "lr_score = accuracy_score(y_test, y_pred,normalize = True)\n",
    "print(lr_score)\n",
    "precision_recall_fscore_support(y_test, y_pred, average='macro')"
   ]
  },
  {
   "cell_type": "code",
   "execution_count": 87,
   "id": "8779e738",
   "metadata": {},
   "outputs": [
    {
     "name": "stdout",
     "output_type": "stream",
     "text": [
      "0.6076923076923076\n"
     ]
    },
    {
     "data": {
      "text/plain": [
       "(0.7093552154404081, 0.6229916635089049, 0.6170508876762486, None)"
      ]
     },
     "execution_count": 87,
     "metadata": {},
     "output_type": "execute_result"
    }
   ],
   "source": [
    "from sklearn.naive_bayes import GaussianNB\n",
    "gnb = GaussianNB()\n",
    "y_pred = gnb.fit(X_train, y_train).predict(X_test)\n",
    "gnb_score = accuracy_score(y_test,y_pred,normalize=True)\n",
    "print(gnb_score)\n",
    "precision_recall_fscore_support(y_test, y_pred, average='macro')"
   ]
  },
  {
   "cell_type": "code",
   "execution_count": 88,
   "id": "f51f5b59",
   "metadata": {},
   "outputs": [
    {
     "name": "stdout",
     "output_type": "stream",
     "text": [
      "0.8846153846153846\n"
     ]
    },
    {
     "data": {
      "text/plain": [
       "(0.8848684210526316, 0.883582796513831, 0.882867366284814, None)"
      ]
     },
     "execution_count": 88,
     "metadata": {},
     "output_type": "execute_result"
    }
   ],
   "source": [
    "from sklearn.ensemble import RandomForestClassifier\n",
    "rfc_model = RandomForestClassifier(max_depth=100, random_state=0).fit(X_train,y_train)\n",
    "y_pred = rfc_model.predict(X_test)\n",
    "rfc_score = accuracy_score(y_test,y_pred,normalize=True)\n",
    "print(rfc_score)\n",
    "precision_recall_fscore_support(y_test, y_pred, average='macro')"
   ]
  },
  {
   "cell_type": "code",
   "execution_count": 44,
   "id": "712bb235",
   "metadata": {},
   "outputs": [
    {
     "name": "stderr",
     "output_type": "stream",
     "text": [
      "C:\\Users\\ASUS\\AppData\\Local\\Programs\\Python\\Python39\\lib\\site-packages\\sklearn\\utils\\deprecation.py:87: FutureWarning: Function get_feature_names is deprecated; get_feature_names is deprecated in 1.0 and will be removed in 1.2. Please use get_feature_names_out instead.\n",
      "  warnings.warn(msg, category=FutureWarning)\n"
     ]
    }
   ],
   "source": [
    "import numpy as np\n",
    "import matplotlib.pyplot as plt\n",
    "import pandas as pd\n",
    "from sklearn.model_selection import train_test_split\n",
    "from sklearn.metrics import accuracy_score\n",
    "from imblearn.over_sampling import RandomOverSampler\n",
    "from sklearn.feature_extraction.text import TfidfVectorizer\n",
    "from sklearn.decomposition import PCA\n",
    "from sklearn.preprocessing import StandardScaler\n",
    "\n",
    "df= pd.read_csv('final_datasets/encoded_dataset.csv')\n",
    "X = df.iloc[:, 3:].values\n",
    "y = df.iloc[:, 2].values\n",
    "col = df.columns[3:]\n",
    "X_new = []\n",
    "for data in X:\n",
    "    datum = \" \".join([col[i] for i in range(len(data)) if data[i] == 1])\n",
    "    X_new.append(datum)\n",
    "vectorizer = TfidfVectorizer()\n",
    "vectors = vectorizer.fit_transform(X_new)\n",
    "feature_names = vectorizer.get_feature_names()\n",
    "dense = vectors.todense()\n",
    "denselist = dense.tolist()\n",
    "df = pd.DataFrame(denselist, columns=feature_names)\n",
    "oversample = RandomOverSampler()\n",
    "resumeDF = pd.read_csv('final_datasets/encoded_dataset.csv')\n",
    "y = resumeDF.iloc[:, 2].values\n",
    "X_over, y_over = oversample.fit_resample(df, y)\n",
    "X_train, X_test, y_train, y_test = train_test_split(X_over, y_over, test_size = 0.2, random_state = 0)\n",
    "#sc = StandardScaler()\n",
    "#X_train = sc.fit_transform(X_train)\n",
    "#X_test = sc.transform(X_test)\n",
    "pca = PCA(n_components = None)\n",
    "X_train = pca.fit_transform(X_train)\n",
    "X_test = pca.transform(X_test)"
   ]
  },
  {
   "cell_type": "code",
   "execution_count": null,
   "id": "8a663053",
   "metadata": {},
   "outputs": [],
   "source": [
    "svm\n",
    "0.8538461538461538\n",
    "(0.8636204481792717, 0.863527851458886, 0.855511265306792, None)\n"
   ]
  },
  {
   "cell_type": "code",
   "execution_count": null,
   "id": "4fe719a5",
   "metadata": {},
   "outputs": [],
   "source": [
    "lr\n",
    "0.823076923076923\n",
    "(0.8430982905982907, 0.8347811671087533, 0.8273100289229323, None)"
   ]
  },
  {
   "cell_type": "code",
   "execution_count": null,
   "id": "3efd04b3",
   "metadata": {},
   "outputs": [],
   "source": [
    "rfc\n",
    "0.8846153846153846\n",
    "(0.8848684210526316, 0.883582796513831, 0.882867366284814, None)"
   ]
  },
  {
   "cell_type": "code",
   "execution_count": null,
   "id": "c0ad9041",
   "metadata": {},
   "outputs": [],
   "source": [
    "gnb\n",
    "0.6076923076923076\n",
    "(0.7093552154404081, 0.6229916635089049, 0.6170508876762486, None)"
   ]
  },
  {
   "cell_type": "code",
   "execution_count": 89,
   "id": "e9e1cbb2",
   "metadata": {},
   "outputs": [],
   "source": [
    "accuracy = [0.8538461538461538,0.823076923076923,0.8846153846153846,0.6076923076923076]\n",
    "precision = [0.8636204481792717,0.8430982905982907,0.8848684210526316,0.7093552154404081]\n",
    "recall = [0.863527851458886,0.8347811671087533,0.883582796513831,0.6229916635089049]\n",
    "f1_score = [0.855511265306792,0.8273100289229323,0.882867366284814,0.6170508876762486]\n"
   ]
  },
  {
   "cell_type": "code",
   "execution_count": 119,
   "id": "75fddfed",
   "metadata": {},
   "outputs": [
    {
     "data": {
      "image/png": "[encoded data removed]",
      "text/plain": [
       "<Figure size 432x288 with 1 Axes>"
      ]
     },
     "metadata": {
      "needs_background": "light"
     },
     "output_type": "display_data"
    }
   ],
   "source": [
    "import numpy as np \n",
    "import matplotlib.pyplot as plt \n",
    "  \n",
    "X = ['Accuracy','Precision','Recall','F1-score']\n",
    "x1 = [accuracy[0],precision[0]]\n",
    "x2 = []\n",
    "x3 = []\n",
    "x4 = []\n",
    "  \n",
    "X_axis = np.arange(len(X))\n",
    "  \n",
    "plt.bar(X_axis - 0.2, Ygirls, 0.4, label = 'Girls')\n",
    "plt.bar(X_axis + 0.2, Zboys, 0.4, label = 'Boys')\n",
    "  \n",
    "plt.xticks(X_axis, X)\n",
    "plt.xlabel(\"Groups\")\n",
    "plt.ylabel(\"Number of Students\")\n",
    "plt.title(\"Number of Students in each group\")\n",
    "plt.legend()\n",
    "plt.show()"
   ]
  },
  {
   "cell_type": "code",
   "execution_count": 120,
   "id": "861fd735",
   "metadata": {},
   "outputs": [
    {
     "data": {
      "image/png": "[encoded data removed]",
      "text/plain": [
       "<Figure size 432x288 with 1 Axes>"
      ]
     },
     "metadata": {
      "needs_background": "light"
     },
     "output_type": "display_data"
    }
   ],
   "source": [
    "import numpy as np \n",
    "import matplotlib.pyplot as plt \n",
    "  \n",
    "X = ['Accuracy','Precision','Recall','F1-score']\n",
    "x1 = [accuracy[0],precision[0],recall[0],f1_score[0]]\n",
    "x2 = [accuracy[1],precision[1],recall[1],f1_score[1]]\n",
    "x3 = [accuracy[2],precision[2],recall[2],f1_score[2]]\n",
    "x4 = [accuracy[3],precision[3],recall[3],f1_score[3]]\n",
    "  \n",
    "X_axis = np.arange(len(X))\n",
    "  \n",
    "plt.bar(X_axis - 0.2, x1, 0.4, label = 'Accuracy')\n",
    "plt.bar(X_axis + 0.2, x2, 0.4, label = 'Precision')\n",
    "plt.bar(X_axis + 0.4, x3, 0.4, label = 'Precision')\n",
    "plt.bar(X_axis + 0.6, x4, 0.4, label = 'Precision')\n",
    "\n",
    "  \n",
    "plt.xticks(X_axis, X)\n",
    "plt.xlabel(\"Groups\")\n",
    "plt.ylabel(\"Number of Students\")\n",
    "plt.title(\"Number of Students in each group\")\n",
    "plt.legend()\n",
    "plt.show()"
   ]
  },
  {
   "cell_type": "code",
   "execution_count": 121,
   "id": "1d752cab",
   "metadata": {},
   "outputs": [
    {
     "data": {
      "image/png": "[encoded data removed]",
      "text/plain": [
       "<Figure size 432x288 with 1 Axes>"
      ]
     },
     "metadata": {
      "needs_background": "light"
     },
     "output_type": "display_data"
    }
   ],
   "source": [
    "import matplotlib.pyplot as plt\n",
    "\n",
    "ax = plt.subplot(111)\n",
    "ax.bar(x, x1, width=0.5, color='b', align='center')\n",
    "ax.bar(x, x2, width=0.5, color='g', align='center')\n",
    "ax.bar(x, x3, width=0.5, color='r', align='center')\n",
    "ax.xaxis_date()\n",
    "\n",
    "plt.show()\n"
   ]
  },
  {
   "cell_type": "code",
   "execution_count": 140,
   "id": "93e36049",
   "metadata": {},
   "outputs": [
    {
     "data": {
      "image/png": "[encoded data removed]",
      "text/plain": [
       "<Figure size 432x288 with 1 Axes>"
      ]
     },
     "metadata": {
      "needs_background": "light"
     },
     "output_type": "display_data"
    }
   ],
   "source": [
    "import numpy as np\n",
    "import matplotlib.pyplot as plt\n",
    "\n",
    "N = 4\n",
    "ind = np.arange(N)  # the x locations for the groups\n",
    "width = 0.17       # the width of the bars\n",
    "\n",
    "fig = plt.figure()\n",
    "ax = fig.add_subplot(111)\n",
    "x1 = [accuracy[0],precision[0],recall[0],f1_score[0]]\n",
    "x2 = [accuracy[1],precision[1],recall[1],f1_score[1]]\n",
    "x3 = [accuracy[2],precision[2],recall[2],f1_score[2]]\n",
    "x4 = [accuracy[3],precision[3],recall[3],f1_score[3]]\n",
    "x5 = [0.8769230769230769 , 0.8858057317359643, 0.8714625428335105, 0.8742778574844572]\n",
    "\n",
    "\n",
    "\n",
    "rects1 = ax.bar(ind, x1, width, color='red')\n",
    "rects2 = ax.bar(ind+width, x2, width, color='green')\n",
    "rects3 = ax.bar(ind+width*2, x3, width, color='orange')\n",
    "rects4 = ax.bar(ind+width*3, x4, width, color='purple')\n",
    "rects5 = ax.bar(ind+width*4, x5, width, color='blue')\n",
    "\n",
    "ax.set_ylabel('Scores')\n",
    "ax.set_xticks(ind+width)\n",
    "ax.set_xticklabels( ('Accuracy', 'Precision', 'Recall',\"F1 score\"),rotation = 45)\n",
    "ax.legend((rects1[0], rects2[0], rects3[0],rects4[0],rects5[0]), ('SVM', 'Logistic Regression', 'Random Forest Classifier','Naive Bayes',\"ANN\"),bbox_to_anchor=(1.04,1))\n",
    "\n",
    "plt.show()"
   ]
  },
  {
   "cell_type": "code",
   "execution_count": null,
   "id": "3166dfa0",
   "metadata": {},
   "outputs": [],
   "source": []
  }
 ],
 "metadata": {
  "kernelspec": {
   "display_name": "Python 3.10.6 64-bit",
   "language": "python",
   "name": "python3"
  },
  "language_info": {
   "codemirror_mode": {
    "name": "ipython",
    "version": 3
   },
   "file_extension": ".py",
   "mimetype": "text/x-python",
   "name": "python",
   "nbconvert_exporter": "python",
   "pygments_lexer": "ipython3",
   "version": "3.10.6"
  },
  "vscode": {
   "interpreter": {
    "hash": "fe753cc8db45e3262c00fe3ab824e10abbd283f1ea3cba17b9a95a6dc1eba13c"
   }
  }
 },
 "nbformat": 4,
 "nbformat_minor": 5
}
